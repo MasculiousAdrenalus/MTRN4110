{
 "cells": [
  {
   "cell_type": "markdown",
   "metadata": {},
   "source": [
    "# OpenCV-Python tutorial 1 - Getting started\n",
    "In this notebook, we will go through basic operations of opencv."
   ]
  },
  {
   "cell_type": "code",
   "execution_count": null,
   "metadata": {
    "scrolled": true
   },
   "outputs": [],
   "source": [
    "# import required dependencies\n",
    "import numpy as np\n",
    "import cv2\n",
    "import matplotlib.pyplot as plt\n",
    "\n",
    "# set plot to show inside jupyter notebook.\n",
    "# delete the line below when run in python.\n",
    "%matplotlib inline\n",
    "\n",
    "# check opencv version\n",
    "print(cv2.__version__)"
   ]
  },
  {
   "cell_type": "markdown",
   "metadata": {},
   "source": [
    "### Part 1 Reading images and basic operations \n",
    "OpenCV (Open Source Computer Vision Library) is an open source computer vision and machine learning software library. "
   ]
  },
  {
   "cell_type": "code",
   "execution_count": null,
   "metadata": {},
   "outputs": [],
   "source": [
    "## Reading images\n",
    "# opencv reading image as 'BGR', not 'RGB'\n",
    "# using cv2.imshow() will not cause a problem \n",
    "# but using plt.show needs to convert 'BGR' to 'RGB'\n",
    "img_bgr = cv2.imread('appleflower1.JPG')\n",
    "\n",
    "# Check the image have been opened successfully\n",
    "if img_bgr is not None:\n",
    "    print('Loading image successfully!')\n",
    "else:\n",
    "    print('Loading error!')\n"
   ]
  },
  {
   "cell_type": "code",
   "execution_count": null,
   "metadata": {},
   "outputs": [],
   "source": [
    "# Image properties\n",
    "h, w = img_bgr.shape[:2]\n",
    "print('Image type: {}'.format(img_bgr.dtype))\n",
    "print('Image width: {}'.format(w), 'Image height: {}'.format(h))\n",
    "\n",
    "# Index image(left-upper is (0,0), right bottom is (h,w))\n",
    "# Check the pixel value of row 1 and 2, column 1 and 2.\n",
    "print(img_bgr[:2, :2, :])\n"
   ]
  },
  {
   "cell_type": "code",
   "execution_count": null,
   "metadata": {},
   "outputs": [],
   "source": [
    "#display an image using matplotlib\n",
    "\n",
    "# Convert image to rgb order\n",
    "img_rgb = cv2.cvtColor(img_bgr, cv2.COLOR_BGR2RGB)\n",
    "\n",
    "# Create a figure with 2 plots. Plot size is set to 10inches wide x 8 inches high.\n",
    "# fig is a handle to the figure, ax1 is handle to plot no 1, ax2 is handle to plot no 2.\n",
    "fig, (ax1, ax2) = plt.subplots(figsize=(10, 8), ncols=2)\n",
    "\n",
    "ax1.imshow(img_bgr)\n",
    "ax1.set_title(\"BGR\")\n",
    "#ax1.show()\n",
    "img_rgb = cv2.cvtColor(img_bgr, cv2.COLOR_BGR2RGB)\n",
    "#fig.show()\n",
    "\n",
    "#plt.subplot(2,2)\n",
    "ax2.imshow(img_rgb)\n",
    "ax2.set_title(\"RGB\")\n",
    "#ax2.show()\n",
    "#fig.canvas.draw()\n",
    "#plt.draw()\n"
   ]
  },
  {
   "cell_type": "markdown",
   "metadata": {},
   "source": [
    "### Part 2 Drawing an object and putting text on images"
   ]
  },
  {
   "cell_type": "code",
   "execution_count": null,
   "metadata": {},
   "outputs": [],
   "source": [
    "# Draw a line using cv2.line(image, startPoint, endPoint, rgb, thinkness)\n",
    "cv2.line(img_rgb, (0,0), (3017,3012), (255,0,0), 50)\n",
    "# => Diagonal red line with thickness of 5 px\n",
    "\n",
    "# Draw a rectangle using cv2.rectangle(image, topLeft, bottomRight, rgb, thinkness)\n",
    "cv2.rectangle(img_rgb, (0,0), (1500,1500), (0,255,0), 50)\n",
    "# => Green rectangle with thickness of 3 px\n",
    "\n",
    "# Draw a circle using cv2.circle(image, center, radius, rgb, thinkness)\n",
    "cv2.circle(img_rgb, (750,750), 750, (0,0,255), -1)\n",
    "# => Blue filled circle(note that the thinkness is -1)\n",
    "\n",
    "# Draw a ellipse using cv2.ellipse(image, center, axes, angle, startAngle, endAngle, rgb, thinkness)\n",
    "cv2.ellipse(img_rgb, (1800,1800), (1000,500), -45, 0, 180, (255,0,0), -1)\n",
    "# => Red wide down-half ellipse\n",
    "\n",
    "#plt.imshow(img_rgb)\n",
    "\n",
    "\n",
    "# Put some text using cv2.putText(image, text, bottomLeft, fontType, fontScale, rgb, thinkness, lineType)\n",
    "font = cv2.FONT_HERSHEY_COMPLEX\n",
    "cv2.putText(img_rgb, 'OpenCV', (500,2500), font, 10, (255,255,255), 50, cv2.LINE_AA)\n",
    "# => White 'OpenCV' text at the bottom\n",
    "\n",
    "plt.imshow(img_rgb)\n",
    "\n"
   ]
  },
  {
   "cell_type": "markdown",
   "metadata": {},
   "source": [
    "### Part 3 ROI (Region of Interest) operation"
   ]
  },
  {
   "cell_type": "code",
   "execution_count": null,
   "metadata": {},
   "outputs": [],
   "source": [
    "img_rgb[1500:2000, 500:1500, :] = (255, 0, 0)\n",
    "plt.imshow(img_rgb)"
   ]
  },
  {
   "cell_type": "code",
   "execution_count": null,
   "metadata": {},
   "outputs": [],
   "source": [
    "flower = img_rgb[1700:2800, 480: 1700,:]\n",
    "img_rgb [0:1100, 0: 1220, :] = flower\n",
    "plt.imshow(img_rgb)"
   ]
  },
  {
   "cell_type": "code",
   "execution_count": null,
   "metadata": {},
   "outputs": [],
   "source": []
  }
 ],
 "metadata": {
  "kernelspec": {
   "display_name": "Python 3",
   "language": "python",
   "name": "python3"
  },
  "language_info": {
   "codemirror_mode": {
    "name": "ipython",
    "version": 3
   },
   "file_extension": ".py",
   "mimetype": "text/x-python",
   "name": "python",
   "nbconvert_exporter": "python",
   "pygments_lexer": "ipython3",
   "version": "3.7.3"
  }
 },
 "nbformat": 4,
 "nbformat_minor": 2
}
